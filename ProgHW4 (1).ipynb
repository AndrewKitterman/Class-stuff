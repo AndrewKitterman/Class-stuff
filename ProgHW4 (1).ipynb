{
 "cells": [
  {
   "cell_type": "code",
   "execution_count": 102,
   "metadata": {},
   "outputs": [
    {
     "data": {
      "text/plain": [
       "'1.16.2'"
      ]
     },
     "execution_count": 102,
     "metadata": {},
     "output_type": "execute_result"
    }
   ],
   "source": [
    "from SparseGrids import *\n",
    "import SparseGrids as SG\n",
    "np.version.version"
   ]
  },
  {
   "cell_type": "markdown",
   "metadata": {},
   "source": [
    "# Programming Homework 4"
   ]
  },
  {
   "cell_type": "markdown",
   "metadata": {},
   "source": [
    "## Problem 1\n",
    "A beam of radiation that strikes a slab of material will have the intensity decreased by a factor $t = \\exp{(-kx)}$ where $x$ is the thickness of the slab and $k$ is the extinction coefficient, sometimes called a macroscopic cross section. If $K \\sim \\mathcal{N} (\\mu = 5, \\sigma^2 = 1)$ and $x = 1$, construct a polynomial chaos expansion using Hermite polynomials to represent $t$. Compute the mean and variance of $t$ using the PCE, and compare them with the analytical values obtained in WrittenHW4."
   ]
  },
  {
   "cell_type": "code",
   "execution_count": 168,
   "metadata": {},
   "outputs": [],
   "source": [
    "import numpy as np\n",
    "from matplotlib import pyplot as plt\n",
    "%matplotlib inline\n",
    "from scipy.interpolate import lagrange\n",
    "from numpy.polynomial.hermite_e import hermeval, hermegauss\n",
    "from numpy.polynomial.legendre import leggauss,legval\n",
    "from itertools import product\n",
    "from scipy.special import factorial\n",
    "from scipy.stats import norm,uniform\n",
    "import seaborn as sns\n",
    "from scipy.special import hermite\n",
    "from numpy.random import multivariate_normal"
   ]
  },
  {
   "cell_type": "code",
   "execution_count": 10,
   "metadata": {},
   "outputs": [
    {
     "data": {
      "image/png": "[encoded data removed]",
      "text/plain": [
       "<Figure size 576x432 with 1 Axes>"
      ]
     },
     "metadata": {
      "needs_background": "light"
     },
     "output_type": "display_data"
    }
   ],
   "source": [
    "plt.rcParams['figure.figsize'] = (8, 6)\n",
    "orders = np.array([2,4,6,8,10,15,20])\n",
    "colors = ['b', 'r', 'g', 'm', 'c', 'purple', 'k', 'gold']\n",
    "np.random.seed(20)\n",
    "samples = norm.rvs(size=100000)\n",
    "for i in range(orders.size):\n",
    "# interpolation points\n",
    "    x = hermegauss(orders[i])[0]\n",
    "# Lagrante interpolation\n",
    "    lagpoly = lagrange(x, np.exp(-5-x))\n",
    "# evaluate lagpoly at 10^5 sample points\n",
    "    y_samples = lagpoly(samples)\n",
    "# plotting:\n",
    "    sns.kdeplot(y_samples, color=colors[i], label='Order'+str(orders[i]))\n",
    "ax = sns.kdeplot(np.exp(-5-samples), color=colors[7], label='Exact')\n",
    "plt.legend()\n",
    "plt.xlabel('g(x)')\n",
    "plt.ylabel('density')\n",
    "ax.set_xlim([-.2,.2]);"
   ]
  },
  {
   "cell_type": "code",
   "execution_count": 16,
   "metadata": {},
   "outputs": [
    {
     "name": "stdout",
     "output_type": "stream",
     "text": [
      "n    Mean         Variance    \n",
      "2    0.01036126   0.00006222  \n",
      "4    0.01100717   0.00018918  \n",
      "6    0.01100827   0.00020724  \n",
      "8    0.01101037   0.00020871  \n",
      "10   0.01101027   0.00020869  \n",
      "15   0.01101027   0.00020868  \n",
      "20   0.01101027   0.00020868  \n"
     ]
    }
   ],
   "source": [
    "orders = np.array([2,4,6,8,10,15,20])\n",
    "np.random.seed(50)\n",
    "samples = norm.rvs(size=100000)\n",
    "print('{0:4s} {1:12s} {2:12s}'.format('n', 'Mean', 'Variance'))\n",
    "for i in range(orders.size):\n",
    "# interpolation points\n",
    "    x = hermegauss(orders[i])[0]\n",
    "# Lagrante interpolation\n",
    "    lagpoly = lagrange(x, np.exp(-5-x))\n",
    "# evaluate lagpoly at 10^6 sample points\n",
    "    y_samples = lagpoly(samples)\n",
    "    print('{0:<4d} {1:<12.8f} {2:<12.8f}'.format(orders[i],y_samples.mean(), y_samples.var()))"
   ]
  },
  {
   "cell_type": "code",
   "execution_count": 13,
   "metadata": {},
   "outputs": [
    {
     "data": {
      "text/plain": [
       "0.011108996538242306"
      ]
     },
     "execution_count": 13,
     "metadata": {},
     "output_type": "execute_result"
    }
   ],
   "source": [
    "np.exp(-9/2)"
   ]
  },
  {
   "cell_type": "code",
   "execution_count": 15,
   "metadata": {},
   "outputs": [
    {
     "data": {
      "text/plain": [
       "0.0002120528238158323"
      ]
     },
     "execution_count": 15,
     "metadata": {},
     "output_type": "execute_result"
    }
   ],
   "source": [
    "np.exp(-8)-np.exp(-9)"
   ]
  },
  {
   "cell_type": "markdown",
   "metadata": {},
   "source": [
    "## Problem 2\n",
    "The function $f(x)=1/(1+x^2)$ is called the Witch of Agnesi. If $x\\sim\\mathcal{U}(-2,2)$, find the approximations to the distribution using $10$ function evaluations to build polynomial chaos using stochastic collocation. \n",
    "\n",
    "1. Compare the density obtained from the PCE to that obtained from $f(x)$ with $10^5$ samples. \n",
    "2. Repeat Part 1 by using $20$ function evaluations to build PCE with stochastic collocation.\n",
    "3. Repeat Part 1 by using $40$ function evaluations.\n",
    "\n",
    "What do you find?"
   ]
  },
  {
   "cell_type": "code",
   "execution_count": 43,
   "metadata": {},
   "outputs": [
    {
     "data": {
      "text/plain": [
       "0.07003804541031787"
      ]
     },
     "execution_count": 43,
     "metadata": {},
     "output_type": "execute_result"
    }
   ],
   "source": [
    "x = leggauss(10)[0]\n",
    "np.random.seed(20)\n",
    "lagpoly = lagrange(x,1/(1+(2*x)**2))\n",
    "samples = uniform.rvs(-1,1,size=100000)\n",
    "nodes = leggauss(10)[0]\n",
    "weights = leggauss(10)[1]\n",
    "# Lagrante interpolation\n",
    "y = lagpoly(nodes)\n",
    "# evaluate lagpoly at 10^5 sample points\n",
    "coefs = np.zeros(10)\n",
    "# plotting:\n",
    "for i in range(10):\n",
    "    legpoly_coef = np.zeros(i+1)\n",
    "    legpoly_coef[-1] = 1\n",
    "    coefs[i] = np.dot(weights,y*legval(nodes,legpoly_coef)/(2/(2*i+1)))\n",
    "PCE = legval(samples,coefs)\n",
    "PCE.var()"
   ]
  },
  {
   "cell_type": "code",
   "execution_count": 44,
   "metadata": {
    "scrolled": true
   },
   "outputs": [
    {
     "data": {
      "text/plain": [
       "<matplotlib.axes._subplots.AxesSubplot at 0x21e4aebbf98>"
      ]
     },
     "execution_count": 44,
     "metadata": {},
     "output_type": "execute_result"
    },
    {
     "data": {
      "image/png": "[encoded data removed]",
      "text/plain": [
       "<Figure size 432x288 with 1 Axes>"
      ]
     },
     "metadata": {
      "needs_background": "light"
     },
     "output_type": "display_data"
    }
   ],
   "source": [
    "sns.kdeplot(PCE)"
   ]
  },
  {
   "cell_type": "code",
   "execution_count": 45,
   "metadata": {},
   "outputs": [
    {
     "data": {
      "text/plain": [
       "0.07005212429843799"
      ]
     },
     "execution_count": 45,
     "metadata": {},
     "output_type": "execute_result"
    }
   ],
   "source": [
    "x = leggauss(20)[0]\n",
    "np.random.seed(20)\n",
    "lagpoly = lagrange(x,1/(1+(2*x)**2))\n",
    "samples = uniform.rvs(-1,1,size=100000)\n",
    "nodes = leggauss(10)[0]\n",
    "weights = leggauss(10)[1]\n",
    "# Lagrante interpolation\n",
    "y = lagpoly(nodes)\n",
    "# evaluate lagpoly at 10^5 sample points\n",
    "coefs = np.zeros(10)\n",
    "# plotting:\n",
    "for i in range(10):\n",
    "    legpoly_coef = np.zeros(i+1)\n",
    "    legpoly_coef[-1] = 1\n",
    "    coefs[i] = np.dot(weights,y*legval(nodes,legpoly_coef)/(2/(2*i+1)))\n",
    "PCE = legval(samples,coefs)\n",
    "PCE.var()"
   ]
  },
  {
   "cell_type": "code",
   "execution_count": 46,
   "metadata": {},
   "outputs": [
    {
     "data": {
      "text/plain": [
       "<matplotlib.axes._subplots.AxesSubplot at 0x21e4af166a0>"
      ]
     },
     "execution_count": 46,
     "metadata": {},
     "output_type": "execute_result"
    },
    {
     "data": {
      "image/png": "[encoded data removed]",
      "text/plain": [
       "<Figure size 432x288 with 1 Axes>"
      ]
     },
     "metadata": {
      "needs_background": "light"
     },
     "output_type": "display_data"
    }
   ],
   "source": [
    "sns.kdeplot(PCE)"
   ]
  },
  {
   "cell_type": "code",
   "execution_count": 47,
   "metadata": {},
   "outputs": [
    {
     "data": {
      "text/plain": [
       "3313.8818139305513"
      ]
     },
     "execution_count": 47,
     "metadata": {},
     "output_type": "execute_result"
    }
   ],
   "source": [
    "x = leggauss(40)[0]\n",
    "np.random.seed(20)\n",
    "lagpoly = lagrange(x,1/(1+(2*x)**2))\n",
    "samples = uniform.rvs(-1,1,size=100000)\n",
    "nodes = leggauss(10)[0]\n",
    "weights = leggauss(10)[1]\n",
    "# Lagrante interpolation\n",
    "y = lagpoly(nodes)\n",
    "# evaluate lagpoly at 10^5 sample points\n",
    "coefs = np.zeros(10)\n",
    "# plotting:\n",
    "for i in range(10):\n",
    "    legpoly_coef = np.zeros(i+1)\n",
    "    legpoly_coef[-1] = 1\n",
    "    coefs[i] = np.dot(weights,y*legval(nodes,legpoly_coef)/(2/(2*i+1)))\n",
    "PCE = legval(samples,coefs)\n",
    "PCE.var()"
   ]
  },
  {
   "cell_type": "code",
   "execution_count": 48,
   "metadata": {},
   "outputs": [
    {
     "data": {
      "text/plain": [
       "<matplotlib.axes._subplots.AxesSubplot at 0x21e49a299b0>"
      ]
     },
     "execution_count": 48,
     "metadata": {},
     "output_type": "execute_result"
    },
    {
     "data": {
      "image/png": "[encoded data removed]",
      "text/plain": [
       "<Figure size 432x288 with 1 Axes>"
      ]
     },
     "metadata": {
      "needs_background": "light"
     },
     "output_type": "display_data"
    }
   ],
   "source": [
    "sns.kdeplot(PCE)"
   ]
  },
  {
   "cell_type": "code",
   "execution_count": 53,
   "metadata": {},
   "outputs": [
    {
     "data": {
      "text/plain": [
       "<matplotlib.axes._subplots.AxesSubplot at 0x21e49e26908>"
      ]
     },
     "execution_count": 53,
     "metadata": {},
     "output_type": "execute_result"
    },
    {
     "data": {
      "image/png": "[encoded data removed]",
      "text/plain": [
       "<Figure size 432x288 with 1 Axes>"
      ]
     },
     "metadata": {
      "needs_background": "light"
     },
     "output_type": "display_data"
    }
   ],
   "source": [
    "samples = uniform.rvs(-2,2,size=100000)\n",
    "def f(x):\n",
    "    return 1/(1+x**2)\n",
    "sns.kdeplot(f(samples))"
   ]
  },
  {
   "cell_type": "code",
   "execution_count": null,
   "metadata": {},
   "outputs": [],
   "source": []
  },
  {
   "cell_type": "markdown",
   "metadata": {},
   "source": [
    "## Problem 3\n",
    "Consider the spring model\n",
    "\\begin{equation}\n",
    "\\begin{aligned}\n",
    "&m \\frac{d^{2} z}{d t^{2}}+c \\frac{d z}{d t}+k z=f_{0} \\cos \\left(\\omega_{F} t\\right) \\\\\n",
    "&z(0)=z_{0}, \\frac{d z}{d t}(0)=z_{1}\n",
    "\\end{aligned}\n",
    "\\end{equation}\n",
    "and steady state response\n",
    "\\begin{equation}\n",
    "y\\left(\\omega_{F}, \\boldsymbol{\\Theta}\\right)=\\frac{1}{\\sqrt{\\left(k-m \\omega_{F}^{2}\\right)^{2}+\\left(c \\omega_{F}\\right)^{2}}}\n",
    "\\end{equation}\n",
    "where $\\boldsymbol{\\Theta}=[m,c,k]$. The QoI are the mean and standard deviation for driving frequencies $\\omega_F\\in[1.3, 2.7]$. Assume that $\\boldsymbol{\\Theta}\\sim\\mathcal{N}(\\bar{\\boldsymbol{\\theta}}, V)$ with $\\bar{\\boldsymbol{\\theta}}=[2.7, 0.24, 8.5]$ and $V$ given by\n",
    "\\begin{equation}\n",
    "V=\n",
    "\\begin{bmatrix}\n",
    "0.002^2 & 0 & 0 \\\\\n",
    "0 & 0.065^2 & 0 \\\\\n",
    "0 & 0 & 0.001^2\n",
    "\\end{bmatrix}\n",
    "\\end{equation}\n",
    "Use the sparse grid techniques to approximate the integrals in the spectral projection. Comparing the resulting QoI given by the PCE with those given by $M=10^5$ Monte Carlo samples. For the sparse grid, using GQN as the node type. These sparse quadrature nodes are generated by the 1D Gaussian-Hermite (probabilist) quadrate nodes, and the weights are divided by $(\\sqrt{2\\pi})^d$, where $d$ is the number of parameters, to account for the $\\frac{1}{\\sqrt{2\\pi}}$ factor in evaluating integrals with Gaussian weight. Choose polynomial expansion order and sparse grid level so that the PCE results match those from sampling. "
   ]
  },
  {
   "cell_type": "code",
   "execution_count": 50,
   "metadata": {},
   "outputs": [],
   "source": [
    "def Z0(theta, omega_F):\n",
    "    m = theta[0]\n",
    "    c = theta[1]\n",
    "    k = theta[2]\n",
    "    return 1/np.sqrt((k-m*omega_F**2)**2 + (c*omega_F)**2)"
   ]
  },
  {
   "cell_type": "code",
   "execution_count": 74,
   "metadata": {},
   "outputs": [],
   "source": [
    "theta_mean = np.array([2.7, 0.24, 8.5])\n",
    "V = np.diag([0.002**2, 0.065**2, 0.001**2])\n",
    "omega = np.linspace(1.3, 2.7, 100)\n",
    "nomegaF = omega_Fs.size"
   ]
  },
  {
   "cell_type": "code",
   "execution_count": 75,
   "metadata": {},
   "outputs": [],
   "source": [
    "def multivariate_pce_tensor_index(d, max_deg):\n",
    "    maxRange = max_deg*np.ones(d, dtype='int')\n",
    "    index = np.array([i for i in product(*(range(i+1) for i in maxRange)) if max(i)<=max_deg])\n",
    "    return index"
   ]
  },
  {
   "cell_type": "code",
   "execution_count": 148,
   "metadata": {},
   "outputs": [],
   "source": [
    "def response(d, max_deg, level):\n",
    "\n",
    "    pce_index = multivariate_pce_tensor_index(d, max_deg)\n",
    "    pce_coef = np.zeros((nomegaF,pce_index.shape[0]))\n",
    "    #print(pce_index)\n",
    "    var = np.zeros(nomegaF)\n",
    "    for_var = np.zeros(nomegaF)\n",
    "# sparse quadrature where 1D quadrature rules are Gauss-Fejer (SG.FEJ)\n",
    "    sg = SG.SparseGrid(SG.GQN, d, level, None)\n",
    "    (x_sg, w_sg) = sg.sparseGrid() # x_sg are in (-1,1)\n",
    "    #print((x_sg,w_sg))\n",
    "    n_func_eval = x_sg.shape[0]\n",
    "    print('Total number of nodes = ', n_func_eval)\n",
    "    w_sg = w_sg*(np.sqrt(2*np.pi))**3\n",
    "    for j in range(nomegaF):\n",
    "        for i in range(pce_index.shape[0]):\n",
    "            #print(hermite(pce_index[i,0])(x_sg[:,0]))\n",
    "            pce_coef[j,i] = np.dot(Z0((theta_mean[0] + V[0,0]*x_sg[:,0], theta_mean[1]+V[1,1]*x_sg[:,1],theta_mean[2] + V[2,2]*x_sg[:,2]),omega[j])*hermite(pce_index[i,0])(x_sg[:,0])*hermite(pce_index[i,1])(x_sg[:,1])*hermite(pce_index[i,2])(x_sg[:,2]), w_sg)\n",
    "            pce_coef[j,i] /= ((np.sqrt(2*np.pi)*factorial(i)))*((np.sqrt(2*np.pi)*factorial(i)))*((np.sqrt(2*np.pi)*factorial(i)))\n",
    "            if i != 0:\n",
    "                var[j] += factorial(i)*factorial(i)*factorial(i)*((pce_coef[j,i])**2)\n",
    "    return pce_coef,var,n_func_eval"
   ]
  },
  {
   "cell_type": "code",
   "execution_count": 154,
   "metadata": {},
   "outputs": [
    {
     "name": "stdout",
     "output_type": "stream",
     "text": [
      "Total number of nodes =  69\n"
     ]
    }
   ],
   "source": [
    "pce_coef,var,_ = response(3,3,4)"
   ]
  },
  {
   "cell_type": "code",
   "execution_count": 155,
   "metadata": {},
   "outputs": [
    {
     "data": {
      "text/plain": [
       "[<matplotlib.lines.Line2D at 0x21e6911d908>]"
      ]
     },
     "execution_count": 155,
     "metadata": {},
     "output_type": "execute_result"
    },
    {
     "data": {
      "image/png": "[encoded data removed]",
      "text/plain": [
       "<Figure size 432x288 with 1 Axes>"
      ]
     },
     "metadata": {
      "needs_background": "light"
     },
     "output_type": "display_data"
    }
   ],
   "source": [
    "plt.plot(omega,var)"
   ]
  },
  {
   "cell_type": "code",
   "execution_count": 160,
   "metadata": {},
   "outputs": [
    {
     "data": {
      "text/plain": [
       "[<matplotlib.lines.Line2D at 0x21e69424630>]"
      ]
     },
     "execution_count": 160,
     "metadata": {},
     "output_type": "execute_result"
    },
    {
     "data": {
      "image/png": "[encoded data removed]",
      "text/plain": [
       "<Figure size 432x288 with 1 Axes>"
      ]
     },
     "metadata": {
      "needs_background": "light"
     },
     "output_type": "display_data"
    }
   ],
   "source": [
    "plt.plot(omega,pce_coef[:,0])"
   ]
  },
  {
   "cell_type": "code",
   "execution_count": 180,
   "metadata": {},
   "outputs": [
    {
     "data": {
      "text/plain": [
       "array([[2.70063253, 0.15824191, 8.50126733],\n",
       "       [2.69987961, 0.23029778, 8.50001708],\n",
       "       [2.70265153, 0.1454649 , 8.49941769],\n",
       "       ...,\n",
       "       [2.70311525, 0.31296957, 8.49914726],\n",
       "       [2.7011061 , 0.15428686, 8.49964622],\n",
       "       [2.6982931 , 0.10763059, 8.49935428]])"
      ]
     },
     "execution_count": 180,
     "metadata": {},
     "output_type": "execute_result"
    }
   ],
   "source": [
    "samp = multivariate_normal(theta_mean,V,10**5)\n",
    "samp"
   ]
  },
  {
   "cell_type": "code",
   "execution_count": 183,
   "metadata": {},
   "outputs": [
    {
     "data": {
      "text/plain": [
       "array([0.26021386, 0.2597856 , 0.26063447, ..., 0.25954011, 0.26039771,\n",
       "       0.26027475])"
      ]
     },
     "execution_count": 183,
     "metadata": {},
     "output_type": "execute_result"
    }
   ],
   "source": [
    "Z0((samp[:,0],samp[:,1],samp[:,2]),omega[1])"
   ]
  },
  {
   "cell_type": "code",
   "execution_count": 190,
   "metadata": {},
   "outputs": [
    {
     "data": {
      "text/plain": [
       "array([2.41184514e-07, 2.89997865e-07, 3.50540494e-07, 4.26121969e-07,\n",
       "       5.21135409e-07, 6.41464786e-07, 7.95066468e-07, 9.92809272e-07,\n",
       "       1.24970302e-06, 1.58671919e-06, 2.03352748e-06, 2.63267186e-06,\n",
       "       3.44604813e-06, 4.56512934e-06, 6.12741684e-06, 8.34345659e-06,\n",
       "       1.15422075e-05, 1.62491018e-05, 2.33239696e-05, 3.42119316e-05,\n",
       "       5.14146176e-05, 7.94069609e-05, 1.26491807e-04, 2.08717286e-04,\n",
       "       3.58557510e-04, 6.45198757e-04, 1.22481398e-03, 2.47341773e-03,\n",
       "       5.36286293e-03, 1.26013804e-02, 3.23094605e-02, 9.01876906e-02,\n",
       "       2.66734310e-01, 7.85253227e-01, 8.49348459e-01, 2.82950757e-01,\n",
       "       9.55553771e-02, 3.43987919e-02, 1.35415181e-02, 5.83400492e-03,\n",
       "       2.72908127e-03, 1.37239680e-03, 7.34793608e-04, 4.15304779e-04,\n",
       "       2.45992694e-04, 1.51765231e-04, 9.70266436e-05, 6.40048504e-05,\n",
       "       4.34079229e-05, 3.01740219e-05, 2.14426312e-05, 1.55431642e-05,\n",
       "       1.14706410e-05, 8.60408756e-06, 6.55037000e-06, 5.05502938e-06,\n",
       "       3.94999976e-06, 3.12219772e-06, 2.49422475e-06, 2.01226516e-06,\n",
       "       1.63835082e-06, 1.34532933e-06, 1.11353696e-06, 9.28564960e-07,\n",
       "       7.79738666e-07, 6.59068027e-07, 5.60514422e-07, 4.79472430e-07,\n",
       "       4.12399507e-07, 3.56548599e-07, 3.09773196e-07, 2.70383892e-07,\n",
       "       2.37041903e-07, 2.08679382e-07, 1.84439311e-07, 1.63629818e-07,\n",
       "       1.45689216e-07, 1.30159064e-07, 1.16663275e-07, 1.04891811e-07,\n",
       "       9.45878915e-08, 8.55378890e-08, 7.75633157e-08, 7.05144285e-08,\n",
       "       6.42651033e-08, 5.87087059e-08, 5.37547509e-08, 4.93261864e-08,\n",
       "       4.53571775e-08, 4.17912901e-08, 3.85799960e-08, 3.56814397e-08,\n",
       "       3.30594142e-08, 3.06825112e-08, 2.85234097e-08, 2.65582821e-08,\n",
       "       2.47662942e-08, 2.31291838e-08, 2.16309055e-08, 2.02573282e-08])"
      ]
     },
     "execution_count": 190,
     "metadata": {},
     "output_type": "execute_result"
    }
   ],
   "source": [
    "means = np.zeros(nomegaF)\n",
    "var = np.zeros(nomegaF)\n",
    "for i in range(nomegaF):\n",
    "    means[i] = np.mean(Z0((samp[:,0],samp[:,1],samp[:,2]),omega[i]))\n",
    "    var[i] = (Z0((samp[:,0],samp[:,1],samp[:,2]),omega[i]))\n",
    "means\n",
    "var"
   ]
  },
  {
   "cell_type": "code",
   "execution_count": 192,
   "metadata": {},
   "outputs": [
    {
     "data": {
      "text/plain": [
       "[<matplotlib.lines.Line2D at 0x21e690c5d30>]"
      ]
     },
     "execution_count": 192,
     "metadata": {},
     "output_type": "execute_result"
    },
    {
     "data": {
      "image/png": "[encoded data removed]",
      "text/plain": [
       "<Figure size 432x288 with 1 Axes>"
      ]
     },
     "metadata": {
      "needs_background": "light"
     },
     "output_type": "display_data"
    }
   ],
   "source": [
    "plt.plot(omega,means)\n",
    "plt.plot(omega,var)"
   ]
  },
  {
   "cell_type": "code",
   "execution_count": null,
   "metadata": {},
   "outputs": [],
   "source": []
  }
 ],
 "metadata": {
  "kernelspec": {
   "display_name": "Python 3",
   "language": "python",
   "name": "python3"
  },
  "language_info": {
   "codemirror_mode": {
    "name": "ipython",
    "version": 3
   },
   "file_extension": ".py",
   "mimetype": "text/x-python",
   "name": "python",
   "nbconvert_exporter": "python",
   "pygments_lexer": "ipython3",
   "version": "3.7.3"
  },
  "latex_envs": {
   "LaTeX_envs_menu_present": true,
   "autoclose": false,
   "autocomplete": true,
   "bibliofile": "biblio.bib",
   "cite_by": "apalike",
   "current_citInitial": 1,
   "eqLabelWithNumbers": true,
   "eqNumInitial": 1,
   "hotkeys": {
    "equation": "Ctrl-E",
    "itemize": "Ctrl-I"
   },
   "labels_anchors": false,
   "latex_user_defs": false,
   "report_style_numbering": false,
   "user_envs_cfg": false
  }
 },
 "nbformat": 4,
 "nbformat_minor": 5
}
