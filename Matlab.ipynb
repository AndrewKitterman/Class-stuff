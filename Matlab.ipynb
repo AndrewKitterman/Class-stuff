{
 "cells": [
  {
   "cell_type": "code",
   "execution_count": 1,
   "metadata": {},
   "outputs": [],
   "source": [
    "#!pip install matlabengine\n",
    "import matlab.engine"
   ]
  },
  {
   "cell_type": "code",
   "execution_count": 2,
   "metadata": {},
   "outputs": [],
   "source": [
    "eng = matlab.engine.start_matlab()"
   ]
  },
  {
   "cell_type": "code",
   "execution_count": 3,
   "metadata": {},
   "outputs": [],
   "source": [
    "eng.cd(r'C:\\Users\\Budde\\Downloads\\matstuff',nargout=0)"
   ]
  },
  {
   "cell_type": "code",
   "execution_count": 4,
   "metadata": {},
   "outputs": [],
   "source": [
    "import pde\n",
    "import numpy as np\n",
    "import scipy as sp\n",
    "import numpy as np\n",
    "from numpy import linalg\n",
    "from scipy.optimize import minimize\n",
    "from scipy.optimize import least_squares\n",
    "import sklearn\n",
    "from sklearn.decomposition import KernelPCA\n",
    "import time\n",
    "import numpy as np\n",
    "import matplotlib as mpl\n",
    "import matplotlib.pyplot as plt\n",
    "%matplotlib inline\n",
    "import scipy.sparse as sparse\n",
    "import scipy.sparse.linalg as linalg\n",
    "from numpy.random import multivariate_normal\n",
    "from numpy.linalg import eig\n",
    "import warnings\n",
    "warnings.filterwarnings(\"ignore\")\n",
    "import sympy as sym\n",
    "from sklearn.utils.extmath import randomized_svd\n",
    "import numpy as np\n",
    "\n",
    "from pde import CartesianGrid, solve_laplace_equation\n"
   ]
  },
  {
   "cell_type": "code",
   "execution_count": 5,
   "metadata": {},
   "outputs": [],
   "source": [
    "def POD_Train(f,g,M):\n",
    "    f1 = np.shape(f)[0]\n",
    "    f2 = np.shape(f)[1]\n",
    "    fvals = []\n",
    "    gvals = []\n",
    "    f = f.copy()\n",
    "    g = g.copy()\n",
    "    easymeans1 = np.mean(f,axis=1)\n",
    "    easymeans2 = np.mean(g,axis=1)\n",
    "    easymeans1 = easymeans1.reshape(f1,1)\n",
    "    easymeans2 = easymeans2.reshape(np.shape(g)[0],1)\n",
    "    for i in range(np.shape(f)[0]):\n",
    "        f[:][i] = f[:][i] - easymeans1[i]\n",
    "    for i in range(np.shape(g)[0]):\n",
    "        g[:][i] = g[:][i] - easymeans2[i]\n",
    "    W = np.concatenate((f,g))\n",
    "    RSV_computed = []\n",
    "    U,W_svd,V = np.linalg.svd(W,compute_uv=True)\n",
    "    for i in range(M):\n",
    "        x = V[:,i]\n",
    "        RSV_computed.append(np.dot(W,x))\n",
    "    RSV_computed = np.array(RSV_computed).T\n",
    "    for i in range(M):\n",
    "        fvals.append(RSV_computed[:f1,i])\n",
    "        gvals.append(RSV_computed[f1:,i])\n",
    "    fvals,gvals = np.array(fvals),np.array(gvals)\n",
    "    return fvals.T,gvals.T,easymeans1,easymeans2\n",
    "def PODMM_Predict(g_test,zeta_f,zeta_g,f_bar,g_bar,M):\n",
    "    g_test = g_test.copy()\n",
    "    f_bar = f_bar.copy()\n",
    "    zeta_f = zeta_f.copy()\n",
    "    zeta_g = zeta_g.copy()\n",
    "    f_bar = f_bar.copy()\n",
    "    g_bar = g_bar.copy()\n",
    "    alpha_PODMM = []\n",
    "    g_test = g_test.reshape(-1,1)\n",
    "    #print(g_test.shape,zeta_f.shape,zeta_g.shape,f_bar.shape,g_bar.shape,)\n",
    "    objective_func = lambda y:(g_test-(g_bar + np.dot(zeta_g,y.T).reshape(-1,1))).flatten()\n",
    "    y0 = np.random.random(M)\n",
    "    gam = least_squares(objective_func,y0)\n",
    "    alph = gam.x\n",
    "    return f_bar + np.dot(zeta_f,alph.T).reshape(-1,1)\n",
    "def ADRSource(Lx, Nx, Source, omega, v, kappa):\n",
    "    \"\"\"\n",
    "    Solve the advection-diffusion-reaction equation\n",
    "    input:\n",
    "    Lx: float, the right end of x\n",
    "    Nx: int, nunber of x\n",
    "    Source: 1d array of size Nx\n",
    "    omega: 1d array of size Nx\n",
    "    v: 1d array of size Nx+1\n",
    "    kappa: 1d array of size Nx\n",
    "    return:\n",
    "    Solution: 1d array of size Nx\n",
    "    Q: float, quantiy of interest\n",
    "    \"\"\"\n",
    "    Source = np.full((Nx),Source)\n",
    "    omega = np.full((Nx),omega)\n",
    "    v = np.full((Nx),v)\n",
    "    kappa = np.full((Nx),kappa)\n",
    "    A = sparse.dia_matrix((Nx,Nx))   \n",
    "    dx = Lx/(Nx-1)\n",
    "    i2dx2 = 1.0/(dx*dx)\n",
    "    #fill diagonal of A\n",
    "    A.setdiag(2*i2dx2*omega + np.sign(v)*v/dx + kappa)\n",
    "    #fill off diagonals of A\n",
    "    A.setdiag(-i2dx2*omega[1:Nx] + 0.5*(1-np.sign(v[1:Nx]))*v[1:Nx]/dx,1)\n",
    "    A.setdiag(-i2dx2*omega[0:(Nx-1)] - 0.5*(np.sign(v[0:(Nx-1)])+1)*v[0:(Nx-1)]/dx,-1)\n",
    "    #solve A x = Source\n",
    "    Solution = linalg.spsolve(A,Source)\n",
    "    # Trapezoid rule\n",
    "    Q = np.sum(Solution[1:-1]*kappa[1:-1]*dx) + \\\n",
    "        Solution[0]*kappa[0]*dx/2 + Solution[-1]*kappa[-1]*dx/2\n",
    "    return Solution, Q\n",
    "def lazy(mean,std):\n",
    "    A = [[1,-1],[1,1]]\n",
    "    e1 = np.sqrt(12)*std\n",
    "    e2 = 2*mean\n",
    "    b = [e1,e2]\n",
    "    return np.linalg.solve(A,b)\n"
   ]
  },
  {
   "cell_type": "code",
   "execution_count": 6,
   "metadata": {},
   "outputs": [],
   "source": [
    "N = 20000 #points at fine resolution\n",
    "M = 100 # points at coarse resolution\n",
    "J = 200 # number of solutions"
   ]
  },
  {
   "cell_type": "code",
   "execution_count": 7,
   "metadata": {},
   "outputs": [],
   "source": [
    "v_a_b = lazy(10,1)\n",
    "omega_a_b = lazy(20,2)\n",
    "k_l_a_b = lazy(2,.2)\n",
    "k_h_a_b = lazy(.1,.01)\n",
    "q_a_b = lazy(1,.1)\n",
    "v_sample = np.random.uniform(v_a_b[0],v_a_b[1],N)\n",
    "omega_sample = np.random.uniform(omega_a_b[0],omega_a_b[1],N)\n",
    "k_l_sample = np.random.uniform(k_l_a_b[0],k_l_a_b[1],N)\n",
    "k_h_sample = np.random.uniform(k_h_a_b[0],k_h_a_b[1],N)\n",
    "q_sample = np.random.uniform(q_a_b[0],q_a_b[1],N)"
   ]
  },
  {
   "cell_type": "code",
   "execution_count": 8,
   "metadata": {},
   "outputs": [
    {
     "data": {
      "text/plain": [
       "(20000,)"
      ]
     },
     "execution_count": 8,
     "metadata": {},
     "output_type": "execute_result"
    }
   ],
   "source": [
    "y = np.linspace(0,1,N)\n",
    "x = np.linspace(0,1,M)\n",
    "F_soln = np.zeros((N,J))\n",
    "F_soln_noise = np.zeros((N,J))\n",
    "for i in range(J):\n",
    "    F_soln[:,i] = (ADRSource(1,N,q_sample[i]*y*(10-y),omega_sample[i],v_sample[i],k_l_sample[i])[0])\n",
    "G_soln = np.zeros((M,J))\n",
    "for i in range(J):\n",
    "    G_soln[:,i] = (ADRSource(1,M,q_sample[i]*x*(10-x),omega_sample[i],v_sample[i],k_l_sample[i])[0])\n",
    "#G_soln = G_soln.T\n",
    "test_g = 2*G_soln[:,1] + 1.5*G_soln[:,2] - G_soln[:,3]\n",
    "#print(test_g.shape,test_f.shape)\n",
    "test_f = 2*F_soln[:,1] + 1.5*F_soln[:,2] - F_soln[:,3]\n",
    "F_soln[:,i].shape"
   ]
  },
  {
   "cell_type": "code",
   "execution_count": 11,
   "metadata": {},
   "outputs": [
    {
     "ename": "MemoryError",
     "evalue": "Unable to allocate 2.98 GiB for an array with shape (20000, 20000) and data type float64",
     "output_type": "error",
     "traceback": [
      "\u001b[1;31m---------------------------------------------------------------------------\u001b[0m",
      "\u001b[1;31mMemoryError\u001b[0m                               Traceback (most recent call last)",
      "\u001b[1;32m~\\AppData\\Local\\Temp\\ipykernel_15216\\2854337436.py\u001b[0m in \u001b[0;36m<module>\u001b[1;34m\u001b[0m\n\u001b[0;32m      5\u001b[0m \u001b[1;32mfor\u001b[0m \u001b[0mi\u001b[0m \u001b[1;32min\u001b[0m \u001b[0mrange\u001b[0m\u001b[1;33m(\u001b[0m\u001b[0mN\u001b[0m\u001b[1;33m)\u001b[0m\u001b[1;33m:\u001b[0m\u001b[1;33m\u001b[0m\u001b[1;33m\u001b[0m\u001b[0m\n\u001b[0;32m      6\u001b[0m     \u001b[0mvar\u001b[0m \u001b[1;33m=\u001b[0m \u001b[1;33m(\u001b[0m\u001b[1;36m.1\u001b[0m\u001b[1;33m*\u001b[0m\u001b[0mfmeans\u001b[0m\u001b[1;33m[\u001b[0m\u001b[0mi\u001b[0m\u001b[1;33m]\u001b[0m\u001b[1;33m)\u001b[0m\u001b[1;33m**\u001b[0m\u001b[1;36m2\u001b[0m\u001b[1;33m\u001b[0m\u001b[1;33m\u001b[0m\u001b[0m\n\u001b[1;32m----> 7\u001b[1;33m     \u001b[0meps\u001b[0m \u001b[1;33m=\u001b[0m \u001b[0mnp\u001b[0m\u001b[1;33m.\u001b[0m\u001b[0mrandom\u001b[0m\u001b[1;33m.\u001b[0m\u001b[0mmultivariate_normal\u001b[0m\u001b[1;33m(\u001b[0m\u001b[0mnp\u001b[0m\u001b[1;33m.\u001b[0m\u001b[0mzeros\u001b[0m\u001b[1;33m(\u001b[0m\u001b[0mN\u001b[0m\u001b[1;33m)\u001b[0m\u001b[1;33m,\u001b[0m\u001b[0mvar\u001b[0m\u001b[1;33m*\u001b[0m\u001b[0mnp\u001b[0m\u001b[1;33m.\u001b[0m\u001b[0meye\u001b[0m\u001b[1;33m(\u001b[0m\u001b[0mN\u001b[0m\u001b[1;33m)\u001b[0m\u001b[1;33m)\u001b[0m\u001b[1;33m\u001b[0m\u001b[1;33m\u001b[0m\u001b[0m\n\u001b[0m\u001b[0;32m      8\u001b[0m     \u001b[0mF_soln_noise\u001b[0m\u001b[1;33m[\u001b[0m\u001b[1;33m:\u001b[0m\u001b[1;33m,\u001b[0m\u001b[0mi\u001b[0m\u001b[1;33m]\u001b[0m \u001b[1;33m=\u001b[0m \u001b[0mF_soln\u001b[0m\u001b[1;33m[\u001b[0m\u001b[1;33m:\u001b[0m\u001b[1;33m,\u001b[0m\u001b[0mi\u001b[0m\u001b[1;33m]\u001b[0m \u001b[1;33m+\u001b[0m \u001b[0meps\u001b[0m\u001b[1;33m\u001b[0m\u001b[1;33m\u001b[0m\u001b[0m\n\u001b[0;32m      9\u001b[0m \u001b[1;33m\u001b[0m\u001b[0m\n",
      "\u001b[1;32mmtrand.pyx\u001b[0m in \u001b[0;36mnumpy.random.mtrand.RandomState.multivariate_normal\u001b[1;34m()\u001b[0m\n",
      "\u001b[1;32m~\\anaconda3\\lib\\site-packages\\numpy\\core\\overrides.py\u001b[0m in \u001b[0;36mallclose\u001b[1;34m(*args, **kwargs)\u001b[0m\n",
      "\u001b[1;32m~\\anaconda3\\lib\\site-packages\\numpy\\core\\numeric.py\u001b[0m in \u001b[0;36mallclose\u001b[1;34m(a, b, rtol, atol, equal_nan)\u001b[0m\n\u001b[0;32m   2268\u001b[0m \u001b[1;33m\u001b[0m\u001b[0m\n\u001b[0;32m   2269\u001b[0m     \"\"\"\n\u001b[1;32m-> 2270\u001b[1;33m     \u001b[0mres\u001b[0m \u001b[1;33m=\u001b[0m \u001b[0mall\u001b[0m\u001b[1;33m(\u001b[0m\u001b[0misclose\u001b[0m\u001b[1;33m(\u001b[0m\u001b[0ma\u001b[0m\u001b[1;33m,\u001b[0m \u001b[0mb\u001b[0m\u001b[1;33m,\u001b[0m \u001b[0mrtol\u001b[0m\u001b[1;33m=\u001b[0m\u001b[0mrtol\u001b[0m\u001b[1;33m,\u001b[0m \u001b[0matol\u001b[0m\u001b[1;33m=\u001b[0m\u001b[0matol\u001b[0m\u001b[1;33m,\u001b[0m \u001b[0mequal_nan\u001b[0m\u001b[1;33m=\u001b[0m\u001b[0mequal_nan\u001b[0m\u001b[1;33m)\u001b[0m\u001b[1;33m)\u001b[0m\u001b[1;33m\u001b[0m\u001b[1;33m\u001b[0m\u001b[0m\n\u001b[0m\u001b[0;32m   2271\u001b[0m     \u001b[1;32mreturn\u001b[0m \u001b[0mbool\u001b[0m\u001b[1;33m(\u001b[0m\u001b[0mres\u001b[0m\u001b[1;33m)\u001b[0m\u001b[1;33m\u001b[0m\u001b[1;33m\u001b[0m\u001b[0m\n\u001b[0;32m   2272\u001b[0m \u001b[1;33m\u001b[0m\u001b[0m\n",
      "\u001b[1;32m~\\anaconda3\\lib\\site-packages\\numpy\\core\\overrides.py\u001b[0m in \u001b[0;36misclose\u001b[1;34m(*args, **kwargs)\u001b[0m\n",
      "\u001b[1;32m~\\anaconda3\\lib\\site-packages\\numpy\\core\\numeric.py\u001b[0m in \u001b[0;36misclose\u001b[1;34m(a, b, rtol, atol, equal_nan)\u001b[0m\n\u001b[0;32m   2378\u001b[0m     \u001b[0myfin\u001b[0m \u001b[1;33m=\u001b[0m \u001b[0misfinite\u001b[0m\u001b[1;33m(\u001b[0m\u001b[0my\u001b[0m\u001b[1;33m)\u001b[0m\u001b[1;33m\u001b[0m\u001b[1;33m\u001b[0m\u001b[0m\n\u001b[0;32m   2379\u001b[0m     \u001b[1;32mif\u001b[0m \u001b[0mall\u001b[0m\u001b[1;33m(\u001b[0m\u001b[0mxfin\u001b[0m\u001b[1;33m)\u001b[0m \u001b[1;32mand\u001b[0m \u001b[0mall\u001b[0m\u001b[1;33m(\u001b[0m\u001b[0myfin\u001b[0m\u001b[1;33m)\u001b[0m\u001b[1;33m:\u001b[0m\u001b[1;33m\u001b[0m\u001b[1;33m\u001b[0m\u001b[0m\n\u001b[1;32m-> 2380\u001b[1;33m         \u001b[1;32mreturn\u001b[0m \u001b[0mwithin_tol\u001b[0m\u001b[1;33m(\u001b[0m\u001b[0mx\u001b[0m\u001b[1;33m,\u001b[0m \u001b[0my\u001b[0m\u001b[1;33m,\u001b[0m \u001b[0matol\u001b[0m\u001b[1;33m,\u001b[0m \u001b[0mrtol\u001b[0m\u001b[1;33m)\u001b[0m\u001b[1;33m\u001b[0m\u001b[1;33m\u001b[0m\u001b[0m\n\u001b[0m\u001b[0;32m   2381\u001b[0m     \u001b[1;32melse\u001b[0m\u001b[1;33m:\u001b[0m\u001b[1;33m\u001b[0m\u001b[1;33m\u001b[0m\u001b[0m\n\u001b[0;32m   2382\u001b[0m         \u001b[0mfinite\u001b[0m \u001b[1;33m=\u001b[0m \u001b[0mxfin\u001b[0m \u001b[1;33m&\u001b[0m \u001b[0myfin\u001b[0m\u001b[1;33m\u001b[0m\u001b[1;33m\u001b[0m\u001b[0m\n",
      "\u001b[1;32m~\\anaconda3\\lib\\site-packages\\numpy\\core\\numeric.py\u001b[0m in \u001b[0;36mwithin_tol\u001b[1;34m(x, y, atol, rtol)\u001b[0m\n\u001b[0;32m   2359\u001b[0m     \u001b[1;32mdef\u001b[0m \u001b[0mwithin_tol\u001b[0m\u001b[1;33m(\u001b[0m\u001b[0mx\u001b[0m\u001b[1;33m,\u001b[0m \u001b[0my\u001b[0m\u001b[1;33m,\u001b[0m \u001b[0matol\u001b[0m\u001b[1;33m,\u001b[0m \u001b[0mrtol\u001b[0m\u001b[1;33m)\u001b[0m\u001b[1;33m:\u001b[0m\u001b[1;33m\u001b[0m\u001b[1;33m\u001b[0m\u001b[0m\n\u001b[0;32m   2360\u001b[0m         \u001b[1;32mwith\u001b[0m \u001b[0merrstate\u001b[0m\u001b[1;33m(\u001b[0m\u001b[0minvalid\u001b[0m\u001b[1;33m=\u001b[0m\u001b[1;34m'ignore'\u001b[0m\u001b[1;33m)\u001b[0m\u001b[1;33m,\u001b[0m \u001b[0m_no_nep50_warning\u001b[0m\u001b[1;33m(\u001b[0m\u001b[1;33m)\u001b[0m\u001b[1;33m:\u001b[0m\u001b[1;33m\u001b[0m\u001b[1;33m\u001b[0m\u001b[0m\n\u001b[1;32m-> 2361\u001b[1;33m             \u001b[1;32mreturn\u001b[0m \u001b[0mless_equal\u001b[0m\u001b[1;33m(\u001b[0m\u001b[0mabs\u001b[0m\u001b[1;33m(\u001b[0m\u001b[0mx\u001b[0m\u001b[1;33m-\u001b[0m\u001b[0my\u001b[0m\u001b[1;33m)\u001b[0m\u001b[1;33m,\u001b[0m \u001b[0matol\u001b[0m \u001b[1;33m+\u001b[0m \u001b[0mrtol\u001b[0m \u001b[1;33m*\u001b[0m \u001b[0mabs\u001b[0m\u001b[1;33m(\u001b[0m\u001b[0my\u001b[0m\u001b[1;33m)\u001b[0m\u001b[1;33m)\u001b[0m\u001b[1;33m\u001b[0m\u001b[1;33m\u001b[0m\u001b[0m\n\u001b[0m\u001b[0;32m   2362\u001b[0m \u001b[1;33m\u001b[0m\u001b[0m\n\u001b[0;32m   2363\u001b[0m     \u001b[0mx\u001b[0m \u001b[1;33m=\u001b[0m \u001b[0masanyarray\u001b[0m\u001b[1;33m(\u001b[0m\u001b[0ma\u001b[0m\u001b[1;33m)\u001b[0m\u001b[1;33m\u001b[0m\u001b[1;33m\u001b[0m\u001b[0m\n",
      "\u001b[1;31mMemoryError\u001b[0m: Unable to allocate 2.98 GiB for an array with shape (20000, 20000) and data type float64"
     ]
    }
   ],
   "source": [
    "fmeans = np.mean(F_soln,axis=1)\n",
    "gmeans = np.mean(G_soln,axis=1)\n",
    "\n",
    "var = 0\n",
    "for i in range(N):\n",
    "    var = (.1*fmeans[i])**2\n",
    "    eps = np.random.multivariate_normal(np.zeros(N),var*np.eye(N))\n",
    "    F_soln_noise[:,i] = F_soln[:,i] + eps\n",
    "\n",
    "for i in range(M):\n",
    "    var = (.1*gmeans[i])**2\n",
    "    eps = np.random.multivariate_normal(np.zeros(M),var*np.eye(M))\n",
    "    G_soln_noise[:,i] = G_soln[:,i] + eps"
   ]
  },
  {
   "cell_type": "code",
   "execution_count": null,
   "metadata": {},
   "outputs": [],
   "source": [
    "print(fmeans)"
   ]
  },
  {
   "cell_type": "code",
   "execution_count": null,
   "metadata": {},
   "outputs": [],
   "source": [
    "G_soln_noise.shape"
   ]
  },
  {
   "cell_type": "code",
   "execution_count": null,
   "metadata": {},
   "outputs": [],
   "source": []
  },
  {
   "cell_type": "code",
   "execution_count": null,
   "metadata": {},
   "outputs": [],
   "source": []
  },
  {
   "cell_type": "code",
   "execution_count": 123,
   "metadata": {},
   "outputs": [
    {
     "data": {
      "text/plain": [
       "(100, 200)"
      ]
     },
     "execution_count": 123,
     "metadata": {},
     "output_type": "execute_result"
    }
   ],
   "source": [
    "F_soln[0:100,:].shape"
   ]
  },
  {
   "cell_type": "code",
   "execution_count": 175,
   "metadata": {},
   "outputs": [],
   "source": [
    "pack = eng.svde(F_soln.T,{'AR'})"
   ]
  },
  {
   "cell_type": "code",
   "execution_count": 176,
   "metadata": {},
   "outputs": [],
   "source": [
    "b = pack.get('AR')"
   ]
  },
  {
   "cell_type": "code",
   "execution_count": 177,
   "metadata": {},
   "outputs": [],
   "source": [
    "b = np.array(b)"
   ]
  },
  {
   "cell_type": "code",
   "execution_count": 178,
   "metadata": {},
   "outputs": [
    {
     "data": {
      "text/plain": [
       "(200, 2000)"
      ]
     },
     "execution_count": 178,
     "metadata": {},
     "output_type": "execute_result"
    }
   ],
   "source": [
    "b.shape"
   ]
  },
  {
   "cell_type": "code",
   "execution_count": 179,
   "metadata": {},
   "outputs": [
    {
     "data": {
      "text/plain": [
       "0.9948535330143653"
      ]
     },
     "execution_count": 179,
     "metadata": {},
     "output_type": "execute_result"
    }
   ],
   "source": [
    "pack.get('ARmerit')"
   ]
  },
  {
   "cell_type": "code",
   "execution_count": 180,
   "metadata": {},
   "outputs": [
    {
     "data": {
      "text/plain": [
       "array([[-0.00507809, -0.00496559,  0.00424474, ..., -0.00478503,\n",
       "         0.00457011, -0.01724948],\n",
       "       [-0.00508244, -0.00496985,  0.00424838, ..., -0.00478914,\n",
       "         0.00457403, -0.01726429],\n",
       "       [-0.00738727, -0.00722362,  0.00617496, ..., -0.00696095,\n",
       "         0.00664829, -0.02509341],\n",
       "       ...,\n",
       "       [-0.00395224, -0.00386468,  0.00330365, ..., -0.00372416,\n",
       "         0.00355688, -0.01342515],\n",
       "       [-0.0065466 , -0.00640157,  0.00547226, ..., -0.0061688 ,\n",
       "         0.00589172, -0.0222378 ],\n",
       "       [-0.00654671, -0.00640169,  0.00547235, ..., -0.00616891,\n",
       "         0.00589183, -0.02223819]])"
      ]
     },
     "execution_count": 180,
     "metadata": {},
     "output_type": "execute_result"
    }
   ],
   "source": [
    "b"
   ]
  },
  {
   "cell_type": "code",
   "execution_count": 181,
   "metadata": {},
   "outputs": [],
   "source": [
    "G_soln = []\n",
    "for i in range(200):\n",
    "    G_soln.append(ADRSource(1,M,q_sample[i]*x*(10-x),omega_sample[i],v_sample[i],k_l_sample[i])[0])\n",
    "G_soln = np.array(G_soln)\n",
    "#G_soln = G_soln.T"
   ]
  },
  {
   "cell_type": "code",
   "execution_count": 182,
   "metadata": {},
   "outputs": [],
   "source": [
    "fv,gv,fm,gm = POD_Train(b.T,G_soln.T,100)"
   ]
  },
  {
   "cell_type": "code",
   "execution_count": 183,
   "metadata": {},
   "outputs": [],
   "source": [
    "test_g = 2*(G_soln.T[:,1]) + 1.5*(G_soln.T[:,2]) - G_soln.T[:,3]"
   ]
  },
  {
   "cell_type": "code",
   "execution_count": 184,
   "metadata": {},
   "outputs": [
    {
     "data": {
      "text/plain": [
       "(100,)"
      ]
     },
     "execution_count": 184,
     "metadata": {},
     "output_type": "execute_result"
    }
   ],
   "source": [
    "(b.T).shape\n",
    "(test_g).shape"
   ]
  },
  {
   "cell_type": "code",
   "execution_count": null,
   "metadata": {},
   "outputs": [],
   "source": []
  },
  {
   "cell_type": "code",
   "execution_count": 185,
   "metadata": {},
   "outputs": [],
   "source": [
    "newf = PODMM_Predict(test_g,fv,gv,fm,gm,100)"
   ]
  },
  {
   "cell_type": "code",
   "execution_count": 186,
   "metadata": {},
   "outputs": [
    {
     "data": {
      "text/plain": [
       "857.5435949991277"
      ]
     },
     "execution_count": 186,
     "metadata": {},
     "output_type": "execute_result"
    }
   ],
   "source": [
    "np.linalg.norm(newf-test_f)"
   ]
  },
  {
   "cell_type": "code",
   "execution_count": 187,
   "metadata": {},
   "outputs": [
    {
     "data": {
      "text/plain": [
       "array([ 0.44222529,  0.47152554, -0.14804142, ..., -0.7946534 ,\n",
       "       -0.12720256, -0.27236147])"
      ]
     },
     "execution_count": 187,
     "metadata": {},
     "output_type": "execute_result"
    }
   ],
   "source": [
    "test_f"
   ]
  },
  {
   "cell_type": "code",
   "execution_count": 188,
   "metadata": {},
   "outputs": [
    {
     "data": {
      "text/plain": [
       "array([[-0.02912849],\n",
       "       [-0.02848321],\n",
       "       [ 0.0243483 ],\n",
       "       ...,\n",
       "       [-0.0274475 ],\n",
       "       [ 0.02621468],\n",
       "       [-0.09894503]])"
      ]
     },
     "execution_count": 188,
     "metadata": {},
     "output_type": "execute_result"
    }
   ],
   "source": [
    "newf"
   ]
  },
  {
   "cell_type": "code",
   "execution_count": null,
   "metadata": {},
   "outputs": [],
   "source": [
    "F_soln = []\n",
    "for i in range(200):\n",
    "    F_soln.append(ADRSource(1,N,q_sample[i]*y*(10-y),omega_sample[i],v_sample[i],k_l_sample[i])[0] + eps)\n",
    "F_soln = np.array(F_soln)"
   ]
  }
 ],
 "metadata": {
  "kernelspec": {
   "display_name": "Python 3",
   "language": "python",
   "name": "python3"
  },
  "language_info": {
   "codemirror_mode": {
    "name": "ipython",
    "version": 3
   },
   "file_extension": ".py",
   "mimetype": "text/x-python",
   "name": "python",
   "nbconvert_exporter": "python",
   "pygments_lexer": "ipython3",
   "version": "3.7.3"
  }
 },
 "nbformat": 4,
 "nbformat_minor": 5
}
